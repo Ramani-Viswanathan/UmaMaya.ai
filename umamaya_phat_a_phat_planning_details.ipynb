{
  "nbformat": 4,
  "nbformat_minor": 0,
  "metadata": {
    "colab": {
      "provenance": [],
      "authorship_tag": "ABX9TyNfat2PIzHn1h5WS6FBmvCo",
      "include_colab_link": true
    },
    "kernelspec": {
      "name": "python3",
      "display_name": "Python 3"
    },
    "language_info": {
      "name": "python"
    }
  },
  "cells": [
    {
      "cell_type": "markdown",
      "metadata": {
        "id": "view-in-github",
        "colab_type": "text"
      },
      "source": [
        "<a href=\"https://colab.research.google.com/github/Ramani-Viswanathan/UmaMaya.ai/blob/main/umamaya_phat_a_phat_planning_details.ipynb\" target=\"_parent\"><img src=\"https://colab.research.google.com/assets/colab-badge.svg\" alt=\"Open In Colab\"/></a>"
      ]
    },
    {
      "cell_type": "markdown",
      "source": [
        "Project name : phat-a-phat (fast and efficient)\n",
        "Description : The Phat-a-Phat app is a web app that allows users to create new recipes based on the ingredients they have available at home. The app uses LLAMA2 pre-trained LLMs to generate recipes based on the ingredients available. The app is easy to use and navigate, and it is secure and reliable.\n",
        "\n",
        "The app has the following features:\n",
        "\n",
        "Search for recipes: Users can search for recipes by ingredient, cuisine, or other criteria.\n",
        "Create recipes: Users can create their own recipes and share them with others.\n",
        "Rate recipes: Users can rate recipes that they have tried.\n",
        "Save recipes: Users can save recipes that they want to try later.\n",
        "Create shopping lists: Users can create shopping lists for the ingredients they need to make a recipe.\n",
        "Get nutritional information: Users can get nutritional information for recipes.\n",
        "The app is still under development, but it has the potential to be a valuable resource for home cooks. The app can help users to save money, reduce food waste, and get creative in the kitchen."
      ],
      "metadata": {
        "id": "b4rTVFMLMqFE"
      }
    }
  ]
}