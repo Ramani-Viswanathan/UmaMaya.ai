{
  "nbformat": 4,
  "nbformat_minor": 0,
  "metadata": {
    "colab": {
      "provenance": [],
      "authorship_tag": "ABX9TyPhCE5qfFvem/gJv9UDlSt9",
      "include_colab_link": true
    },
    "kernelspec": {
      "name": "python3",
      "display_name": "Python 3"
    },
    "language_info": {
      "name": "python"
    }
  },
  "cells": [
    {
      "cell_type": "markdown",
      "metadata": {
        "id": "view-in-github",
        "colab_type": "text"
      },
      "source": [
        "<a href=\"https://colab.research.google.com/github/Ramani-Viswanathan/UmaMaya.ai/blob/main/ummaya_mathchatbot_planning_details.ipynb\" target=\"_parent\"><img src=\"https://colab.research.google.com/assets/colab-badge.svg\" alt=\"Open In Colab\"/></a>"
      ]
    },
    {
      "cell_type": "markdown",
      "source": [
        "# Math chatbot planning details : personal project\n",
        "\n",
        "**Title** : Building a Math Chatbot Using LLAMA2 and Python\n",
        "\n",
        "**Objective** : The main goal of this project is to create a chatbot that can validate student math steps and answers based on their uploaded answer sheets. The chatbot should be able to process the math expressions and compare them against the correct solutions. The project will utilize the LLAMA2 model, specifically the LLAMA-13B-Chat model, which has been pre-trained on a large dataset of text from the internet.\n",
        "\n",
        "**Scope**:\n",
        "The project will involve the following tasks:\n",
        "\n",
        "1. Setting up the development environment, including installing necessary libraries and tools such as Python, Huggingface, Langchain, or Google Colab.\n",
        "2. Loading and preprocessing the LLAMA2 model, specifically the LLAMA-13B-Chat model, to enable it to accept math expressions as input.\n",
        "3. Creating a web application or API that allows users to upload their answer sheets, which will then be processed by the LLAMA2 model.\n",
        "4. Developing a logic to parse the math expressions from the answer sheets and compare them against the correct solutions.\n",
        "5. Implementing a chatbot interface that can communicate with users and provide feedback on their math steps and answers.\n",
        "6. Testing and evaluating the performance of the chatbot using various evaluation metrics such as accuracy, precision, recall, and F1 score.\n",
        "7. Deploying the chatbot on an open-source platform such as Huggingface, Langchain, or Google Colab.\n",
        "\n",
        "**Deliverables**:\n",
        "\n",
        "1. A fully functional math chatbot that can validate student math steps and answers based on their uploaded answer sheets.\n",
        "2. A report detailing the project's objectives, methodology, and results.\n",
        "3. A presentation showcasing the chatbot's features and capabilities.\n",
        "\n",
        "**Timeline**:\n",
        "The project timeline will be approximately four weeks, with the following milestones:\n",
        "\n",
        "Week 1: Setting up the development environment and loading the LLAMA2 model.\n",
        "Week 2: Creating the web application or API and implementing the logic to parse math expressions.\n",
        "Week 3: Developing the chatbot interface and testing the chatbot's performance.\n",
        "Week 4: Deploying the chatbot on an open-source platform and finalizing the report and presentation.\n",
        "\n",
        "**Please note :** Additional weeks willbe added to learn the concepts and develop while learning\n"
      ],
      "metadata": {
        "id": "R7LRa11EQj2l"
      }
    }
  ]
}